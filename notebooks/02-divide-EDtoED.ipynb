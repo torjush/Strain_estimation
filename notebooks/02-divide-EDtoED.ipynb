{
 "cells": [
  {
   "cell_type": "markdown",
   "metadata": {},
   "source": [
    "# Divide video\n",
    "The task in this project is to estimate strain in a basal segment by tracking two points between the end-diastole and end-systole frames in cardiac ultrasound videos. We assume that we have a method of detecting ED and ES frames in the ultrasound videos. Also, check that the points end up approximately in the same place. Then we need to divide the videos into clips from ED to ED"
   ]
  },
  {
   "cell_type": "code",
   "execution_count": null,
   "metadata": {},
   "outputs": [],
   "source": [
    "%load_ext autoreload\n",
    "%autoreload 2"
   ]
  },
  {
   "cell_type": "code",
   "execution_count": null,
   "metadata": {},
   "outputs": [],
   "source": [
    "import h5py\n",
    "import numpy as np\n",
    "import matplotlib.pyplot as plt\n",
    "import tqdm\n",
    "import glob\n",
    "import os\n",
    "# Be able to import from src folder\n",
    "PROJ_ROOT = os.path.abspath(os.path.join(os.pardir))\n",
    "print(PROJ_ROOT)\n",
    "import sys\n",
    "sys.path.append(os.path.join(PROJ_ROOT, 'src'))\n",
    "\n",
    "import misc.notebookHelpers\n",
    "\n",
    "%matplotlib inline\n",
    "%config InlineBackend.figure_format = \"retina\"\n",
    "\n",
    "plt.rcParams['figure.figsize'] = (10, 10)"
   ]
  },
  {
   "cell_type": "code",
   "execution_count": null,
   "metadata": {},
   "outputs": [],
   "source": [
    "data_path = os.path.join(PROJ_ROOT, 'data/processed/ds_ma_labeled/')\n",
    "file_paths = glob.glob(os.path.join(data_path, '*/*.h5'))"
   ]
  },
  {
   "cell_type": "code",
   "execution_count": null,
   "metadata": {},
   "outputs": [],
   "source": [
    "file_paths[26]"
   ]
  },
  {
   "cell_type": "code",
   "execution_count": null,
   "metadata": {},
   "outputs": [],
   "source": [
    "h5file = h5py.File(file_paths[26])\n",
    "print([k for k in h5file['tissue'].keys()])"
   ]
  },
  {
   "cell_type": "code",
   "execution_count": null,
   "metadata": {},
   "outputs": [],
   "source": [
    "names = []\n",
    "h5file.visit(names.append)\n",
    "names"
   ]
  },
  {
   "cell_type": "code",
   "execution_count": null,
   "metadata": {},
   "outputs": [],
   "source": [
    "h5file['tissue/origin'][:]"
   ]
  },
  {
   "cell_type": "markdown",
   "metadata": {},
   "source": [
    "Do a little quality check and see the first es and ed image"
   ]
  },
  {
   "cell_type": "code",
   "execution_count": null,
   "metadata": {},
   "outputs": [],
   "source": [
    "first_ed = np.where(h5file['tissue/ds_labels'][:] == 1.0)[0][0]\n",
    "first_ed"
   ]
  },
  {
   "cell_type": "code",
   "execution_count": null,
   "metadata": {},
   "outputs": [],
   "source": [
    "first_es = np.where(h5file['tissue/ds_labels'][first_ed:] == 2.0)[0][0]\n",
    "first_es"
   ]
  },
  {
   "cell_type": "code",
   "execution_count": null,
   "metadata": {},
   "outputs": [],
   "source": [
    "video, fps = misc.notebookHelpers.video_and_fps_from_h5py(h5file)"
   ]
  },
  {
   "cell_type": "code",
   "execution_count": null,
   "metadata": {},
   "outputs": [],
   "source": [
    "fig, ax = plt.subplots(ncols=2, figsize=(8, 16))\n",
    "ax[0].imshow(video[first_ed, :, :], cmap='Greys_r')\n",
    "ax[1].imshow(video[first_es + first_ed, :, :], cmap='Greys_r')"
   ]
  },
  {
   "cell_type": "markdown",
   "metadata": {},
   "source": [
    "Looks all right, find the indicises of every ED with a following ES"
   ]
  },
  {
   "cell_type": "code",
   "execution_count": null,
   "metadata": {},
   "outputs": [],
   "source": [
    "full_ed_idc = np.where(h5file['tissue/ds_labels'][:] == 1.0)[0]\n",
    "ed_idc = []\n",
    "es_idc = []\n",
    "\n",
    "for ed_idx in full_ed_idc:\n",
    "    remaining_es = np.where(h5file['tissue/ds_labels'][ed_idx:] == 2.0)[0]\n",
    "    if remaining_es.size > 0:\n",
    "        next_es = remaining_es[0] + ed_idx\n",
    "        es_idc.append(next_es)\n",
    "        ed_idc.append(ed_idx)\n",
    "    else:\n",
    "        break"
   ]
  },
  {
   "cell_type": "code",
   "execution_count": null,
   "metadata": {},
   "outputs": [],
   "source": [
    "ed_idc"
   ]
  },
  {
   "cell_type": "code",
   "execution_count": null,
   "metadata": {},
   "outputs": [],
   "source": [
    "es_idc"
   ]
  },
  {
   "cell_type": "markdown",
   "metadata": {},
   "source": [
    "Check that we in fact have indices from the first ED to the last ES"
   ]
  },
  {
   "cell_type": "code",
   "execution_count": null,
   "metadata": {},
   "outputs": [],
   "source": [
    "vis_arr = np.zeros(es_idc[-1] - ed_idc[0] + 1)\n",
    "vis_arr[ed_idc - ed_idc[0]] = 1\n",
    "vis_arr[es_idc - ed_idc[0]] = 2\n",
    "\n",
    "plt.stem(vis_arr)"
   ]
  },
  {
   "cell_type": "markdown",
   "metadata": {},
   "source": [
    "Try to view a clip for quality assurance"
   ]
  },
  {
   "cell_type": "code",
   "execution_count": null,
   "metadata": {},
   "outputs": [],
   "source": [
    "clip = video[ed_idc[1]:ed_idc[2] + 1, :, :]\n",
    "misc.notebookHelpers.ultraSoundAnimation(clip, fps=fps)"
   ]
  },
  {
   "cell_type": "markdown",
   "metadata": {},
   "source": [
    "Looks good, now find corresponding TVI frames to keep them with the dataset"
   ]
  },
  {
   "cell_type": "code",
   "execution_count": null,
   "metadata": {},
   "outputs": [],
   "source": [
    "tvi_ed_idc = []\n",
    "for ed_idx in ed_idc:\n",
    "    ed_time = h5file['tissue/times'][ed_idx]\n",
    "    \n",
    "    tvi_ed_idx = np.argmin(np.abs(h5file['TVI/times'] - ed_time))\n",
    "    tvi_ed_idc.append(tvi_ed_idx)"
   ]
  },
  {
   "cell_type": "code",
   "execution_count": null,
   "metadata": {},
   "outputs": [],
   "source": [
    "tvi_video, tvi_fps = misc.notebookHelpers.video_and_fps_from_h5py(h5file, 'tvi')\n",
    "tvi_clip = tvi_video[tvi_ed_idc[1]:tvi_ed_idc[2] + 1, :, :]\n",
    "misc.notebookHelpers.ultraSoundAnimation(tvi_clip, fps=tvi_fps)"
   ]
  },
  {
   "cell_type": "code",
   "execution_count": null,
   "metadata": {},
   "outputs": [],
   "source": [
    "h5file['tissue/pixelsize'][:]"
   ]
  },
  {
   "cell_type": "code",
   "execution_count": null,
   "metadata": {},
   "outputs": [],
   "source": [
    "print([k for k in h5file['tissue'].keys()])\n",
    "print([k for k in h5file['TVI'].keys()])"
   ]
  },
  {
   "cell_type": "code",
   "execution_count": null,
   "metadata": {},
   "outputs": [],
   "source": [
    "print([v for v in h5file['tissue/pixelsize']])"
   ]
  },
  {
   "cell_type": "markdown",
   "metadata": {},
   "source": [
    "Try to make new files containing one video segment from ED to ES each. Add TVI, pixel information, directions, origin and timing for TVI and B-mode"
   ]
  },
  {
   "cell_type": "code",
   "execution_count": null,
   "metadata": {},
   "outputs": [],
   "source": [
    "new_file_name_base = file_paths[10].split('/')[-1][:-3]\n",
    "new_file_folder = '../data/interim/'\n",
    "for i, _ in enumerate(ed_idc):\n",
    "    new_file = h5py.File(\n",
    "        os.path.join(new_file_folder, \n",
    "                     new_file_name_base + f'_{i}_.h5'), \n",
    "        'w')\n",
    "    ed_idx = ed_idc[i]\n",
    "    es_idx = es_idc[i]\n",
    "    \n",
    "    ed_time = h5file['tissue/times'][ed_idx]\n",
    "    es_time = h5file['tissue/times'][es_idx]\n",
    "    \n",
    "    video = h5file['tissue/data'][:]\n",
    "    clip = video[:, :, ed_idx:es_idx + 1]\n",
    "    clip_times = h5file['tissue/times'][ed_idx:es_idx + 1]\n",
    "    \n",
    "    tissue = new_file.create_group('tissue')\n",
    "    tissue.create_dataset('data', data=clip)\n",
    "    tissue.create_dataset('times', data=clip_times)\n",
    "    tissue.create_dataset('dirx', data=h5file['tissue/dirx'])\n",
    "    tissue.create_dataset('diry', data=h5file['tissue/diry'])\n",
    "    tissue.create_dataset('pixelsize', data=h5file['tissue/pixelsize'])\n",
    "    tissue.create_dataset('origin', data=h5file['tissue/origin'])\n",
    "    tissue.create_dataset('mitral_points', data=h5file['tissue/mitral_points'])\n",
    "    try:\n",
    "        tvi_ed_idx = np.argmin(np.abs(h5file['TVI/times'] - ed_time))\n",
    "        tvi_es_idx = np.argmin(np.abs(h5file['TVI/times'] - es_time))\n",
    "        \n",
    "        tvi_video = h5file['TVI/data'][:]\n",
    "        tvi_clip = tvi_video[:, :, tvi_ed_idx:tvi_es_idx + 1]\n",
    "        tvi_clip_times = h5file['TVI/times'][ed_idx:es_idx + 1]\n",
    "        \n",
    "        tvi = new_file.create_group('TVI')\n",
    "        tvi.create_dataset('data', data=tvi_clip)\n",
    "        tvi.create_dataset('times', data=tvi_clip_times)\n",
    "        # Directions swapped after transpose\n",
    "        tvi.create_dataset('dirx', data=h5file['TVI/diry'])\n",
    "        tvi.create_dataset('diry', data=h5file['TVI/dirx'])\n",
    "        tvi.create_dataset('pixelsize', data=h5file['TVI/pixelsize'])\n",
    "        tvi.create_dataset('origin', data=h5file['TVI/origin'])\n",
    "    except:\n",
    "        print(f'{new_file_name_base} is missing TVI/times, skip TVI for this file')\n",
    "    new_file.close()"
   ]
  },
  {
   "cell_type": "markdown",
   "metadata": {},
   "source": [
    "Try to open one of them to check that it went according to plan"
   ]
  },
  {
   "cell_type": "code",
   "execution_count": null,
   "metadata": {},
   "outputs": [],
   "source": [
    "test_file = h5py.File(os.path.join(new_file_folder, \n",
    "                                      new_file_name_base + f'_{3}_.h5'))"
   ]
  },
  {
   "cell_type": "code",
   "execution_count": null,
   "metadata": {},
   "outputs": [],
   "source": [
    "misc.ultraSoundAnimation(test_file['tissue/data'], fps=24)"
   ]
  },
  {
   "cell_type": "code",
   "execution_count": null,
   "metadata": {},
   "outputs": [],
   "source": [
    "misc.ultraSoundAnimation(test_file['TVI/data'], fps=24)"
   ]
  },
  {
   "cell_type": "code",
   "execution_count": null,
   "metadata": {},
   "outputs": [],
   "source": []
  }
 ],
 "metadata": {
  "kernelspec": {
   "display_name": "Python 3",
   "language": "python",
   "name": "python3"
  },
  "language_info": {
   "codemirror_mode": {
    "name": "ipython",
    "version": 3
   },
   "file_extension": ".py",
   "mimetype": "text/x-python",
   "name": "python",
   "nbconvert_exporter": "python",
   "pygments_lexer": "ipython3",
   "version": "3.6.8"
  }
 },
 "nbformat": 4,
 "nbformat_minor": 2
}
