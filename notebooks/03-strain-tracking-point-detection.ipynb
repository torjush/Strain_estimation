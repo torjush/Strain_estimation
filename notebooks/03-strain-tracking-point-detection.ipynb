{
 "cells": [
  {
   "cell_type": "code",
   "execution_count": 1,
   "metadata": {},
   "outputs": [],
   "source": [
    "%load_ext autoreload\n",
    "%autoreload 2"
   ]
  },
  {
   "cell_type": "code",
   "execution_count": 2,
   "metadata": {},
   "outputs": [
    {
     "name": "stdout",
     "output_type": "stream",
     "text": [
      "/Users/torjushaukom/Documents/Studier/Masteroppgave/Strain_estimation\n"
     ]
    }
   ],
   "source": [
    "import h5py\n",
    "import numpy as np\n",
    "import matplotlib.pyplot as plt\n",
    "import glob\n",
    "import os\n",
    "import tqdm\n",
    "# Be able to import from src folder\n",
    "PROJ_ROOT = os.path.abspath(os.path.join(os.pardir))\n",
    "print(PROJ_ROOT)\n",
    "import sys\n",
    "sys.path.append(os.path.join(PROJ_ROOT, 'src'))\n",
    "\n",
    "import misc.notebookHelpers\n",
    "\n",
    "%matplotlib inline\n",
    "%config InlineBackend.figure_format = \"retina\"\n",
    "\n",
    "plt.rcParams['figure.figsize'] = (10, 10)"
   ]
  },
  {
   "cell_type": "code",
   "execution_count": 3,
   "metadata": {},
   "outputs": [],
   "source": [
    "data_path = os.path.join(PROJ_ROOT, 'data/interim/old/ed_2_ed_clips')"
   ]
  },
  {
   "cell_type": "code",
   "execution_count": 4,
   "metadata": {},
   "outputs": [
    {
     "data": {
      "text/plain": [
       "'/Users/torjushaukom/Documents/Studier/Masteroppgave/Strain_estimation/data/interim/old/ed_2_ed_clips'"
      ]
     },
     "execution_count": 4,
     "metadata": {},
     "output_type": "execute_result"
    }
   ],
   "source": [
    "data_path"
   ]
  },
  {
   "cell_type": "code",
   "execution_count": 5,
   "metadata": {},
   "outputs": [
    {
     "data": {
      "text/plain": [
       "['/Users/torjushaukom/Documents/Studier/Masteroppgave/Strain_estimation/data/interim/old/ed_2_ed_clips/p1/I53BBJ00_1.h5',\n",
       " '/Users/torjushaukom/Documents/Studier/Masteroppgave/Strain_estimation/data/interim/old/ed_2_ed_clips/p1/I53BBJ00_2.h5',\n",
       " '/Users/torjushaukom/Documents/Studier/Masteroppgave/Strain_estimation/data/interim/old/ed_2_ed_clips/p1/I53BC5G4_1.h5',\n",
       " '/Users/torjushaukom/Documents/Studier/Masteroppgave/Strain_estimation/data/interim/old/ed_2_ed_clips/p1/I53BC5G4_2.h5',\n",
       " '/Users/torjushaukom/Documents/Studier/Masteroppgave/Strain_estimation/data/interim/old/ed_2_ed_clips/p1/I53BCKG8_1.h5',\n",
       " '/Users/torjushaukom/Documents/Studier/Masteroppgave/Strain_estimation/data/interim/old/ed_2_ed_clips/p1/I53BCKG8_2.h5',\n",
       " '/Users/torjushaukom/Documents/Studier/Masteroppgave/Strain_estimation/data/interim/old/ed_2_ed_clips/p1/I53BD8OC_1.h5',\n",
       " '/Users/torjushaukom/Documents/Studier/Masteroppgave/Strain_estimation/data/interim/old/ed_2_ed_clips/p1/I53BD8OC_2.h5',\n",
       " '/Users/torjushaukom/Documents/Studier/Masteroppgave/Strain_estimation/data/interim/old/ed_2_ed_clips/p1/I53BD8OC_3.h5',\n",
       " '/Users/torjushaukom/Documents/Studier/Masteroppgave/Strain_estimation/data/interim/old/ed_2_ed_clips/p1/I53BD8OC_4.h5',\n",
       " '/Users/torjushaukom/Documents/Studier/Masteroppgave/Strain_estimation/data/interim/old/ed_2_ed_clips/p1/I53BDJ8G_1.h5',\n",
       " '/Users/torjushaukom/Documents/Studier/Masteroppgave/Strain_estimation/data/interim/old/ed_2_ed_clips/p1/I53BDJ8G_2.h5',\n",
       " '/Users/torjushaukom/Documents/Studier/Masteroppgave/Strain_estimation/data/interim/old/ed_2_ed_clips/p1/I53BDJ8G_3.h5',\n",
       " '/Users/torjushaukom/Documents/Studier/Masteroppgave/Strain_estimation/data/interim/old/ed_2_ed_clips/p1/I53BDU8K_1.h5',\n",
       " '/Users/torjushaukom/Documents/Studier/Masteroppgave/Strain_estimation/data/interim/old/ed_2_ed_clips/p1/I53BDU8K_2.h5',\n",
       " '/Users/torjushaukom/Documents/Studier/Masteroppgave/Strain_estimation/data/interim/old/ed_2_ed_clips/p1/I53BDU8K_3.h5',\n",
       " '/Users/torjushaukom/Documents/Studier/Masteroppgave/Strain_estimation/data/interim/old/ed_2_ed_clips/p1/I53BDU8K_4.h5',\n",
       " '/Users/torjushaukom/Documents/Studier/Masteroppgave/Strain_estimation/data/interim/old/ed_2_ed_clips/p1/I53E6JS8_1.h5',\n",
       " '/Users/torjushaukom/Documents/Studier/Masteroppgave/Strain_estimation/data/interim/old/ed_2_ed_clips/p1/I53E6JS8_2.h5',\n",
       " '/Users/torjushaukom/Documents/Studier/Masteroppgave/Strain_estimation/data/interim/old/ed_2_ed_clips/p1/I53E6RCC_1.h5',\n",
       " '/Users/torjushaukom/Documents/Studier/Masteroppgave/Strain_estimation/data/interim/old/ed_2_ed_clips/p1/I53E6RCC_2.h5',\n",
       " '/Users/torjushaukom/Documents/Studier/Masteroppgave/Strain_estimation/data/interim/old/ed_2_ed_clips/p1/I53E6RCC_3.h5',\n",
       " '/Users/torjushaukom/Documents/Studier/Masteroppgave/Strain_estimation/data/interim/old/ed_2_ed_clips/p1/I53E6RCC_4.h5',\n",
       " '/Users/torjushaukom/Documents/Studier/Masteroppgave/Strain_estimation/data/interim/old/ed_2_ed_clips/p1/I53E79SG_1.h5',\n",
       " '/Users/torjushaukom/Documents/Studier/Masteroppgave/Strain_estimation/data/interim/old/ed_2_ed_clips/p1/I53E79SG_2.h5',\n",
       " '/Users/torjushaukom/Documents/Studier/Masteroppgave/Strain_estimation/data/interim/old/ed_2_ed_clips/p1/I53E7HSK_1.h5',\n",
       " '/Users/torjushaukom/Documents/Studier/Masteroppgave/Strain_estimation/data/interim/old/ed_2_ed_clips/p1/I53E7HSK_2.h5',\n",
       " '/Users/torjushaukom/Documents/Studier/Masteroppgave/Strain_estimation/data/interim/old/ed_2_ed_clips/p1/I53E7HSK_3.h5',\n",
       " '/Users/torjushaukom/Documents/Studier/Masteroppgave/Strain_estimation/data/interim/old/ed_2_ed_clips/p1/I53E7HSK_4.h5',\n",
       " '/Users/torjushaukom/Documents/Studier/Masteroppgave/Strain_estimation/data/interim/old/ed_2_ed_clips/p1/I53E7HSK_5.h5',\n",
       " '/Users/torjushaukom/Documents/Studier/Masteroppgave/Strain_estimation/data/interim/old/ed_2_ed_clips/p1/I53E8OSO_1.h5',\n",
       " '/Users/torjushaukom/Documents/Studier/Masteroppgave/Strain_estimation/data/interim/old/ed_2_ed_clips/p1/I53E8OSO_2.h5',\n",
       " '/Users/torjushaukom/Documents/Studier/Masteroppgave/Strain_estimation/data/interim/old/ed_2_ed_clips/p1/I53E8OSO_3.h5',\n",
       " '/Users/torjushaukom/Documents/Studier/Masteroppgave/Strain_estimation/data/interim/old/ed_2_ed_clips/p1/I53E8OSO_4.h5',\n",
       " '/Users/torjushaukom/Documents/Studier/Masteroppgave/Strain_estimation/data/interim/old/ed_2_ed_clips/p1/I53E8OSO_5.h5',\n",
       " '/Users/torjushaukom/Documents/Studier/Masteroppgave/Strain_estimation/data/interim/old/ed_2_ed_clips/p1/I53E92SS_1.h5',\n",
       " '/Users/torjushaukom/Documents/Studier/Masteroppgave/Strain_estimation/data/interim/old/ed_2_ed_clips/p1/I53E92SS_2.h5',\n",
       " '/Users/torjushaukom/Documents/Studier/Masteroppgave/Strain_estimation/data/interim/old/ed_2_ed_clips/p1/I53E92SS_3.h5',\n",
       " '/Users/torjushaukom/Documents/Studier/Masteroppgave/Strain_estimation/data/interim/old/ed_2_ed_clips/p2/I59875O0_1.h5',\n",
       " '/Users/torjushaukom/Documents/Studier/Masteroppgave/Strain_estimation/data/interim/old/ed_2_ed_clips/p2/I59875O0_2.h5',\n",
       " '/Users/torjushaukom/Documents/Studier/Masteroppgave/Strain_estimation/data/interim/old/ed_2_ed_clips/p2/I59875O0_3.h5',\n",
       " '/Users/torjushaukom/Documents/Studier/Masteroppgave/Strain_estimation/data/interim/old/ed_2_ed_clips/p2/I59875O0_4.h5',\n",
       " '/Users/torjushaukom/Documents/Studier/Masteroppgave/Strain_estimation/data/interim/old/ed_2_ed_clips/p2/I5987BG4_1.h5',\n",
       " '/Users/torjushaukom/Documents/Studier/Masteroppgave/Strain_estimation/data/interim/old/ed_2_ed_clips/p2/I5987BG4_2.h5',\n",
       " '/Users/torjushaukom/Documents/Studier/Masteroppgave/Strain_estimation/data/interim/old/ed_2_ed_clips/p2/I5987BG4_3.h5',\n",
       " '/Users/torjushaukom/Documents/Studier/Masteroppgave/Strain_estimation/data/interim/old/ed_2_ed_clips/p2/I5987BG4_4.h5',\n",
       " '/Users/torjushaukom/Documents/Studier/Masteroppgave/Strain_estimation/data/interim/old/ed_2_ed_clips/p2/I5987BG4_5.h5',\n",
       " '/Users/torjushaukom/Documents/Studier/Masteroppgave/Strain_estimation/data/interim/old/ed_2_ed_clips/p2/I5987BG4_6.h5',\n",
       " '/Users/torjushaukom/Documents/Studier/Masteroppgave/Strain_estimation/data/interim/old/ed_2_ed_clips/p2/I5987NO8_1.h5',\n",
       " '/Users/torjushaukom/Documents/Studier/Masteroppgave/Strain_estimation/data/interim/old/ed_2_ed_clips/p2/I5987NO8_2.h5',\n",
       " '/Users/torjushaukom/Documents/Studier/Masteroppgave/Strain_estimation/data/interim/old/ed_2_ed_clips/p2/I5987NO8_3.h5',\n",
       " '/Users/torjushaukom/Documents/Studier/Masteroppgave/Strain_estimation/data/interim/old/ed_2_ed_clips/p2/I5987NO8_4.h5',\n",
       " '/Users/torjushaukom/Documents/Studier/Masteroppgave/Strain_estimation/data/interim/old/ed_2_ed_clips/p2/I598800C_1.h5',\n",
       " '/Users/torjushaukom/Documents/Studier/Masteroppgave/Strain_estimation/data/interim/old/ed_2_ed_clips/p2/I598800C_2.h5',\n",
       " '/Users/torjushaukom/Documents/Studier/Masteroppgave/Strain_estimation/data/interim/old/ed_2_ed_clips/p2/I598800C_3.h5',\n",
       " '/Users/torjushaukom/Documents/Studier/Masteroppgave/Strain_estimation/data/interim/old/ed_2_ed_clips/p2/I598800C_4.h5',\n",
       " '/Users/torjushaukom/Documents/Studier/Masteroppgave/Strain_estimation/data/interim/old/ed_2_ed_clips/p2/I598800C_5.h5',\n",
       " '/Users/torjushaukom/Documents/Studier/Masteroppgave/Strain_estimation/data/interim/old/ed_2_ed_clips/p2/I598800C_6.h5',\n",
       " '/Users/torjushaukom/Documents/Studier/Masteroppgave/Strain_estimation/data/interim/old/ed_2_ed_clips/p2/I598800C_7.h5',\n",
       " '/Users/torjushaukom/Documents/Studier/Masteroppgave/Strain_estimation/data/interim/old/ed_2_ed_clips/p2/I5988B0G_1.h5',\n",
       " '/Users/torjushaukom/Documents/Studier/Masteroppgave/Strain_estimation/data/interim/old/ed_2_ed_clips/p2/I5988B0G_2.h5',\n",
       " '/Users/torjushaukom/Documents/Studier/Masteroppgave/Strain_estimation/data/interim/old/ed_2_ed_clips/p2/I5988B0G_3.h5',\n",
       " '/Users/torjushaukom/Documents/Studier/Masteroppgave/Strain_estimation/data/interim/old/ed_2_ed_clips/p2/I5988B0G_4.h5',\n",
       " '/Users/torjushaukom/Documents/Studier/Masteroppgave/Strain_estimation/data/interim/old/ed_2_ed_clips/p2/I598998K_1.h5',\n",
       " '/Users/torjushaukom/Documents/Studier/Masteroppgave/Strain_estimation/data/interim/old/ed_2_ed_clips/p2/I598998K_2.h5',\n",
       " '/Users/torjushaukom/Documents/Studier/Masteroppgave/Strain_estimation/data/interim/old/ed_2_ed_clips/p2/I598998K_3.h5',\n",
       " '/Users/torjushaukom/Documents/Studier/Masteroppgave/Strain_estimation/data/interim/old/ed_2_ed_clips/p2/I598998K_4.h5',\n",
       " '/Users/torjushaukom/Documents/Studier/Masteroppgave/Strain_estimation/data/interim/old/ed_2_ed_clips/p2/I598998K_5.h5',\n",
       " '/Users/torjushaukom/Documents/Studier/Masteroppgave/Strain_estimation/data/interim/old/ed_2_ed_clips/p2/I598998K_6.h5',\n",
       " '/Users/torjushaukom/Documents/Studier/Masteroppgave/Strain_estimation/data/interim/old/ed_2_ed_clips/p2/I59C12KK_1.h5',\n",
       " '/Users/torjushaukom/Documents/Studier/Masteroppgave/Strain_estimation/data/interim/old/ed_2_ed_clips/p2/I59C12KK_2.h5',\n",
       " '/Users/torjushaukom/Documents/Studier/Masteroppgave/Strain_estimation/data/interim/old/ed_2_ed_clips/p2/I59C12KK_3.h5',\n",
       " '/Users/torjushaukom/Documents/Studier/Masteroppgave/Strain_estimation/data/interim/old/ed_2_ed_clips/p2/I59C12KK_4.h5',\n",
       " '/Users/torjushaukom/Documents/Studier/Masteroppgave/Strain_estimation/data/interim/old/ed_2_ed_clips/p2/I59C1B4O_1.h5',\n",
       " '/Users/torjushaukom/Documents/Studier/Masteroppgave/Strain_estimation/data/interim/old/ed_2_ed_clips/p2/I59C1B4O_2.h5',\n",
       " '/Users/torjushaukom/Documents/Studier/Masteroppgave/Strain_estimation/data/interim/old/ed_2_ed_clips/p2/I59C1B4O_3.h5',\n",
       " '/Users/torjushaukom/Documents/Studier/Masteroppgave/Strain_estimation/data/interim/old/ed_2_ed_clips/p2/I59C1B4O_4.h5',\n",
       " '/Users/torjushaukom/Documents/Studier/Masteroppgave/Strain_estimation/data/interim/old/ed_2_ed_clips/p2/I59C1B4O_5.h5',\n",
       " '/Users/torjushaukom/Documents/Studier/Masteroppgave/Strain_estimation/data/interim/old/ed_2_ed_clips/p2/I59C1B4O_6.h5',\n",
       " '/Users/torjushaukom/Documents/Studier/Masteroppgave/Strain_estimation/data/interim/old/ed_2_ed_clips/p2/I59C1NKS_1.h5',\n",
       " '/Users/torjushaukom/Documents/Studier/Masteroppgave/Strain_estimation/data/interim/old/ed_2_ed_clips/p2/I59C1NKS_2.h5',\n",
       " '/Users/torjushaukom/Documents/Studier/Masteroppgave/Strain_estimation/data/interim/old/ed_2_ed_clips/p2/I59C1NKS_3.h5',\n",
       " '/Users/torjushaukom/Documents/Studier/Masteroppgave/Strain_estimation/data/interim/old/ed_2_ed_clips/p2/I59C22D0_1.h5',\n",
       " '/Users/torjushaukom/Documents/Studier/Masteroppgave/Strain_estimation/data/interim/old/ed_2_ed_clips/p2/I59C22D0_2.h5',\n",
       " '/Users/torjushaukom/Documents/Studier/Masteroppgave/Strain_estimation/data/interim/old/ed_2_ed_clips/p2/I59C22D0_3.h5',\n",
       " '/Users/torjushaukom/Documents/Studier/Masteroppgave/Strain_estimation/data/interim/old/ed_2_ed_clips/p2/I59C22D0_4.h5',\n",
       " '/Users/torjushaukom/Documents/Studier/Masteroppgave/Strain_estimation/data/interim/old/ed_2_ed_clips/p2/I59C22D0_5.h5',\n",
       " '/Users/torjushaukom/Documents/Studier/Masteroppgave/Strain_estimation/data/interim/old/ed_2_ed_clips/p2/I59C22D0_6.h5',\n",
       " '/Users/torjushaukom/Documents/Studier/Masteroppgave/Strain_estimation/data/interim/old/ed_2_ed_clips/p2/I59C2HL4_1.h5',\n",
       " '/Users/torjushaukom/Documents/Studier/Masteroppgave/Strain_estimation/data/interim/old/ed_2_ed_clips/p2/I59C2HL4_2.h5',\n",
       " '/Users/torjushaukom/Documents/Studier/Masteroppgave/Strain_estimation/data/interim/old/ed_2_ed_clips/p2/I59C2HL4_3.h5',\n",
       " '/Users/torjushaukom/Documents/Studier/Masteroppgave/Strain_estimation/data/interim/old/ed_2_ed_clips/p2/I59C2HL4_4.h5',\n",
       " '/Users/torjushaukom/Documents/Studier/Masteroppgave/Strain_estimation/data/interim/old/ed_2_ed_clips/p2/I59C2QD8_1.h5',\n",
       " '/Users/torjushaukom/Documents/Studier/Masteroppgave/Strain_estimation/data/interim/old/ed_2_ed_clips/p2/I59C2QD8_2.h5',\n",
       " '/Users/torjushaukom/Documents/Studier/Masteroppgave/Strain_estimation/data/interim/old/ed_2_ed_clips/p2/I59C2QD8_3.h5',\n",
       " '/Users/torjushaukom/Documents/Studier/Masteroppgave/Strain_estimation/data/interim/old/ed_2_ed_clips/p2/I59C2QD8_4.h5',\n",
       " '/Users/torjushaukom/Documents/Studier/Masteroppgave/Strain_estimation/data/interim/old/ed_2_ed_clips/p2/I59C2QD8_5.h5',\n",
       " '/Users/torjushaukom/Documents/Studier/Masteroppgave/Strain_estimation/data/interim/old/ed_2_ed_clips/p2/I59C2QD8_6.h5',\n",
       " '/Users/torjushaukom/Documents/Studier/Masteroppgave/Strain_estimation/data/interim/old/ed_2_ed_clips/p3/I599F2G0_1.h5',\n",
       " '/Users/torjushaukom/Documents/Studier/Masteroppgave/Strain_estimation/data/interim/old/ed_2_ed_clips/p3/I599F2G0_2.h5',\n",
       " '/Users/torjushaukom/Documents/Studier/Masteroppgave/Strain_estimation/data/interim/old/ed_2_ed_clips/p3/I599F2G0_3.h5',\n",
       " '/Users/torjushaukom/Documents/Studier/Masteroppgave/Strain_estimation/data/interim/old/ed_2_ed_clips/p3/I599F2G0_4.h5',\n",
       " '/Users/torjushaukom/Documents/Studier/Masteroppgave/Strain_estimation/data/interim/old/ed_2_ed_clips/p3/I599FMG4_1.h5',\n",
       " '/Users/torjushaukom/Documents/Studier/Masteroppgave/Strain_estimation/data/interim/old/ed_2_ed_clips/p3/I599FMG4_2.h5',\n",
       " '/Users/torjushaukom/Documents/Studier/Masteroppgave/Strain_estimation/data/interim/old/ed_2_ed_clips/p3/I599FMG4_3.h5',\n",
       " '/Users/torjushaukom/Documents/Studier/Masteroppgave/Strain_estimation/data/interim/old/ed_2_ed_clips/p3/I599FMG4_4.h5',\n",
       " '/Users/torjushaukom/Documents/Studier/Masteroppgave/Strain_estimation/data/interim/old/ed_2_ed_clips/p3/I599FMG4_5.h5',\n",
       " '/Users/torjushaukom/Documents/Studier/Masteroppgave/Strain_estimation/data/interim/old/ed_2_ed_clips/p3/I599FMG4_6.h5',\n",
       " '/Users/torjushaukom/Documents/Studier/Masteroppgave/Strain_estimation/data/interim/old/ed_2_ed_clips/p3/I599FMG4_7.h5',\n",
       " '/Users/torjushaukom/Documents/Studier/Masteroppgave/Strain_estimation/data/interim/old/ed_2_ed_clips/p3/I599G2O8_1.h5',\n",
       " '/Users/torjushaukom/Documents/Studier/Masteroppgave/Strain_estimation/data/interim/old/ed_2_ed_clips/p3/I599G2O8_2.h5',\n",
       " '/Users/torjushaukom/Documents/Studier/Masteroppgave/Strain_estimation/data/interim/old/ed_2_ed_clips/p3/I599G2O8_3.h5',\n",
       " '/Users/torjushaukom/Documents/Studier/Masteroppgave/Strain_estimation/data/interim/old/ed_2_ed_clips/p3/I599G2O8_4.h5',\n",
       " '/Users/torjushaukom/Documents/Studier/Masteroppgave/Strain_estimation/data/interim/old/ed_2_ed_clips/p3/I599G2O8_5.h5',\n",
       " '/Users/torjushaukom/Documents/Studier/Masteroppgave/Strain_estimation/data/interim/old/ed_2_ed_clips/p3/I599G2O8_6.h5',\n",
       " '/Users/torjushaukom/Documents/Studier/Masteroppgave/Strain_estimation/data/interim/old/ed_2_ed_clips/p3/I599GE0C_1.h5',\n",
       " '/Users/torjushaukom/Documents/Studier/Masteroppgave/Strain_estimation/data/interim/old/ed_2_ed_clips/p3/I599GE0C_2.h5',\n",
       " '/Users/torjushaukom/Documents/Studier/Masteroppgave/Strain_estimation/data/interim/old/ed_2_ed_clips/p3/I599GE0C_3.h5',\n",
       " '/Users/torjushaukom/Documents/Studier/Masteroppgave/Strain_estimation/data/interim/old/ed_2_ed_clips/p3/I599GE0C_4.h5',\n",
       " '/Users/torjushaukom/Documents/Studier/Masteroppgave/Strain_estimation/data/interim/old/ed_2_ed_clips/p3/I599GQ0G_1.h5',\n",
       " '/Users/torjushaukom/Documents/Studier/Masteroppgave/Strain_estimation/data/interim/old/ed_2_ed_clips/p3/I599GQ0G_2.h5',\n",
       " '/Users/torjushaukom/Documents/Studier/Masteroppgave/Strain_estimation/data/interim/old/ed_2_ed_clips/p3/I599GQ0G_3.h5',\n",
       " '/Users/torjushaukom/Documents/Studier/Masteroppgave/Strain_estimation/data/interim/old/ed_2_ed_clips/p3/I599GQ0G_4.h5',\n",
       " '/Users/torjushaukom/Documents/Studier/Masteroppgave/Strain_estimation/data/interim/old/ed_2_ed_clips/p3/I599H08K_1.h5',\n",
       " '/Users/torjushaukom/Documents/Studier/Masteroppgave/Strain_estimation/data/interim/old/ed_2_ed_clips/p3/I599H08K_2.h5',\n",
       " '/Users/torjushaukom/Documents/Studier/Masteroppgave/Strain_estimation/data/interim/old/ed_2_ed_clips/p3/I599H08K_3.h5',\n",
       " '/Users/torjushaukom/Documents/Studier/Masteroppgave/Strain_estimation/data/interim/old/ed_2_ed_clips/p3/I599H08K_4.h5',\n",
       " '/Users/torjushaukom/Documents/Studier/Masteroppgave/Strain_estimation/data/interim/old/ed_2_ed_clips/p3/I599H08K_5.h5',\n",
       " '/Users/torjushaukom/Documents/Studier/Masteroppgave/Strain_estimation/data/interim/old/ed_2_ed_clips/p3/I599H08K_6.h5',\n",
       " '/Users/torjushaukom/Documents/Studier/Masteroppgave/Strain_estimation/data/interim/old/ed_2_ed_clips/p3/I59D2DQK_1.h5',\n",
       " '/Users/torjushaukom/Documents/Studier/Masteroppgave/Strain_estimation/data/interim/old/ed_2_ed_clips/p3/I59D2DQK_2.h5',\n",
       " '/Users/torjushaukom/Documents/Studier/Masteroppgave/Strain_estimation/data/interim/old/ed_2_ed_clips/p3/I59D2DQK_3.h5',\n",
       " '/Users/torjushaukom/Documents/Studier/Masteroppgave/Strain_estimation/data/interim/old/ed_2_ed_clips/p3/I59D2DQK_4.h5',\n",
       " '/Users/torjushaukom/Documents/Studier/Masteroppgave/Strain_estimation/data/interim/old/ed_2_ed_clips/p3/I59D2K2O_1.h5',\n",
       " '/Users/torjushaukom/Documents/Studier/Masteroppgave/Strain_estimation/data/interim/old/ed_2_ed_clips/p3/I59D2K2O_2.h5',\n",
       " '/Users/torjushaukom/Documents/Studier/Masteroppgave/Strain_estimation/data/interim/old/ed_2_ed_clips/p3/I59D2K2O_3.h5',\n",
       " '/Users/torjushaukom/Documents/Studier/Masteroppgave/Strain_estimation/data/interim/old/ed_2_ed_clips/p3/I59D2K2O_4.h5',\n",
       " '/Users/torjushaukom/Documents/Studier/Masteroppgave/Strain_estimation/data/interim/old/ed_2_ed_clips/p3/I59D2K2O_5.h5',\n",
       " '/Users/torjushaukom/Documents/Studier/Masteroppgave/Strain_estimation/data/interim/old/ed_2_ed_clips/p3/I59D2QAS_1.h5',\n",
       " '/Users/torjushaukom/Documents/Studier/Masteroppgave/Strain_estimation/data/interim/old/ed_2_ed_clips/p3/I59D2QAS_2.h5',\n",
       " '/Users/torjushaukom/Documents/Studier/Masteroppgave/Strain_estimation/data/interim/old/ed_2_ed_clips/p3/I59D2QAS_3.h5',\n",
       " '/Users/torjushaukom/Documents/Studier/Masteroppgave/Strain_estimation/data/interim/old/ed_2_ed_clips/p3/I59D2QAS_4.h5',\n",
       " '/Users/torjushaukom/Documents/Studier/Masteroppgave/Strain_estimation/data/interim/old/ed_2_ed_clips/p3/I59D2QAS_5.h5',\n",
       " '/Users/torjushaukom/Documents/Studier/Masteroppgave/Strain_estimation/data/interim/old/ed_2_ed_clips/p3/I59D2UR0_1.h5',\n",
       " '/Users/torjushaukom/Documents/Studier/Masteroppgave/Strain_estimation/data/interim/old/ed_2_ed_clips/p3/I59D2UR0_2.h5',\n",
       " '/Users/torjushaukom/Documents/Studier/Masteroppgave/Strain_estimation/data/interim/old/ed_2_ed_clips/p3/I59D2UR0_3.h5',\n",
       " '/Users/torjushaukom/Documents/Studier/Masteroppgave/Strain_estimation/data/interim/old/ed_2_ed_clips/p3/I59D2UR0_4.h5',\n",
       " '/Users/torjushaukom/Documents/Studier/Masteroppgave/Strain_estimation/data/interim/old/ed_2_ed_clips/p3/I59D2UR0_5.h5',\n",
       " '/Users/torjushaukom/Documents/Studier/Masteroppgave/Strain_estimation/data/interim/old/ed_2_ed_clips/p3/I59D35R4_1.h5',\n",
       " '/Users/torjushaukom/Documents/Studier/Masteroppgave/Strain_estimation/data/interim/old/ed_2_ed_clips/p3/I59D35R4_2.h5',\n",
       " '/Users/torjushaukom/Documents/Studier/Masteroppgave/Strain_estimation/data/interim/old/ed_2_ed_clips/p3/I59D35R4_3.h5',\n",
       " '/Users/torjushaukom/Documents/Studier/Masteroppgave/Strain_estimation/data/interim/old/ed_2_ed_clips/p3/I59D35R4_4.h5',\n",
       " '/Users/torjushaukom/Documents/Studier/Masteroppgave/Strain_estimation/data/interim/old/ed_2_ed_clips/p3/I59D35R4_5.h5',\n",
       " '/Users/torjushaukom/Documents/Studier/Masteroppgave/Strain_estimation/data/interim/old/ed_2_ed_clips/p3/I59D3B38_1.h5',\n",
       " '/Users/torjushaukom/Documents/Studier/Masteroppgave/Strain_estimation/data/interim/old/ed_2_ed_clips/p3/I59D3B38_2.h5',\n",
       " '/Users/torjushaukom/Documents/Studier/Masteroppgave/Strain_estimation/data/interim/old/ed_2_ed_clips/p3/I59D3B38_3.h5',\n",
       " '/Users/torjushaukom/Documents/Studier/Masteroppgave/Strain_estimation/data/interim/old/ed_2_ed_clips/p3/I59D3B38_4.h5',\n",
       " '/Users/torjushaukom/Documents/Studier/Masteroppgave/Strain_estimation/data/interim/old/ed_2_ed_clips/p3/I59D3B38_5.h5',\n",
       " '/Users/torjushaukom/Documents/Studier/Masteroppgave/Strain_estimation/data/interim/old/ed_2_ed_clips/p3/I59D3B38_6.h5',\n",
       " '/Users/torjushaukom/Documents/Studier/Masteroppgave/Strain_estimation/data/interim/old/ed_2_ed_clips/p4/I5EDSIO0_1.h5',\n",
       " '/Users/torjushaukom/Documents/Studier/Masteroppgave/Strain_estimation/data/interim/old/ed_2_ed_clips/p4/I5EDSQG4_1.h5',\n",
       " '/Users/torjushaukom/Documents/Studier/Masteroppgave/Strain_estimation/data/interim/old/ed_2_ed_clips/p4/I5EDSQG4_2.h5',\n",
       " '/Users/torjushaukom/Documents/Studier/Masteroppgave/Strain_estimation/data/interim/old/ed_2_ed_clips/p4/I5EDSQG4_3.h5',\n",
       " '/Users/torjushaukom/Documents/Studier/Masteroppgave/Strain_estimation/data/interim/old/ed_2_ed_clips/p4/I5EDSQG4_4.h5',\n",
       " '/Users/torjushaukom/Documents/Studier/Masteroppgave/Strain_estimation/data/interim/old/ed_2_ed_clips/p4/I5EDSQG4_5.h5',\n",
       " '/Users/torjushaukom/Documents/Studier/Masteroppgave/Strain_estimation/data/interim/old/ed_2_ed_clips/p4/I5EDSQG4_6.h5',\n",
       " '/Users/torjushaukom/Documents/Studier/Masteroppgave/Strain_estimation/data/interim/old/ed_2_ed_clips/p4/I5EDT888_1.h5',\n",
       " '/Users/torjushaukom/Documents/Studier/Masteroppgave/Strain_estimation/data/interim/old/ed_2_ed_clips/p4/I5EDT888_2.h5',\n",
       " '/Users/torjushaukom/Documents/Studier/Masteroppgave/Strain_estimation/data/interim/old/ed_2_ed_clips/p4/I5EDTIOC_1.h5',\n",
       " '/Users/torjushaukom/Documents/Studier/Masteroppgave/Strain_estimation/data/interim/old/ed_2_ed_clips/p4/I5EDTIOC_2.h5',\n",
       " '/Users/torjushaukom/Documents/Studier/Masteroppgave/Strain_estimation/data/interim/old/ed_2_ed_clips/p4/I5EDTIOC_3.h5',\n",
       " '/Users/torjushaukom/Documents/Studier/Masteroppgave/Strain_estimation/data/interim/old/ed_2_ed_clips/p4/I5EDTIOC_4.h5',\n",
       " '/Users/torjushaukom/Documents/Studier/Masteroppgave/Strain_estimation/data/interim/old/ed_2_ed_clips/p4/I5EDTIOC_5.h5',\n",
       " '/Users/torjushaukom/Documents/Studier/Masteroppgave/Strain_estimation/data/interim/old/ed_2_ed_clips/p4/I5EDTIOC_6.h5',\n",
       " '/Users/torjushaukom/Documents/Studier/Masteroppgave/Strain_estimation/data/interim/old/ed_2_ed_clips/p4/I5EDTTGG_1.h5',\n",
       " '/Users/torjushaukom/Documents/Studier/Masteroppgave/Strain_estimation/data/interim/old/ed_2_ed_clips/p4/I5EDTTGG_2.h5',\n",
       " '/Users/torjushaukom/Documents/Studier/Masteroppgave/Strain_estimation/data/interim/old/ed_2_ed_clips/p4/I5EE0EGK_1.h5',\n",
       " '/Users/torjushaukom/Documents/Studier/Masteroppgave/Strain_estimation/data/interim/old/ed_2_ed_clips/p4/I5EE0EGK_2.h5',\n",
       " '/Users/torjushaukom/Documents/Studier/Masteroppgave/Strain_estimation/data/interim/old/ed_2_ed_clips/p4/I5EE0EGK_3.h5',\n",
       " '/Users/torjushaukom/Documents/Studier/Masteroppgave/Strain_estimation/data/interim/old/ed_2_ed_clips/p4/I5EE0EGK_4.h5',\n",
       " '/Users/torjushaukom/Documents/Studier/Masteroppgave/Strain_estimation/data/interim/old/ed_2_ed_clips/p4/I5EE0EGK_5.h5',\n",
       " '/Users/torjushaukom/Documents/Studier/Masteroppgave/Strain_estimation/data/interim/old/ed_2_ed_clips/p4/I5EGD6IC_1.h5',\n",
       " '/Users/torjushaukom/Documents/Studier/Masteroppgave/Strain_estimation/data/interim/old/ed_2_ed_clips/p4/I5EGD6IC_2.h5',\n",
       " '/Users/torjushaukom/Documents/Studier/Masteroppgave/Strain_estimation/data/interim/old/ed_2_ed_clips/p4/I5EGD6IC_3.h5',\n",
       " '/Users/torjushaukom/Documents/Studier/Masteroppgave/Strain_estimation/data/interim/old/ed_2_ed_clips/p4/I5EGD6IC_4.h5',\n",
       " '/Users/torjushaukom/Documents/Studier/Masteroppgave/Strain_estimation/data/interim/old/ed_2_ed_clips/p4/I5EGD6IC_5.h5',\n",
       " '/Users/torjushaukom/Documents/Studier/Masteroppgave/Strain_estimation/data/interim/old/ed_2_ed_clips/p4/I5EGD6IC_6.h5',\n",
       " '/Users/torjushaukom/Documents/Studier/Masteroppgave/Strain_estimation/data/interim/old/ed_2_ed_clips/p4/I5EGDQ2G_1.h5',\n",
       " '/Users/torjushaukom/Documents/Studier/Masteroppgave/Strain_estimation/data/interim/old/ed_2_ed_clips/p4/I5EGDQ2G_2.h5',\n",
       " '/Users/torjushaukom/Documents/Studier/Masteroppgave/Strain_estimation/data/interim/old/ed_2_ed_clips/p4/I5EGE3QK_1.h5',\n",
       " '/Users/torjushaukom/Documents/Studier/Masteroppgave/Strain_estimation/data/interim/old/ed_2_ed_clips/p4/I5EGE3QK_2.h5',\n",
       " '/Users/torjushaukom/Documents/Studier/Masteroppgave/Strain_estimation/data/interim/old/ed_2_ed_clips/p4/I5EGEAIO_1.h5',\n",
       " '/Users/torjushaukom/Documents/Studier/Masteroppgave/Strain_estimation/data/interim/old/ed_2_ed_clips/p4/I5EGEAIO_2.h5',\n",
       " '/Users/torjushaukom/Documents/Studier/Masteroppgave/Strain_estimation/data/interim/old/ed_2_ed_clips/p4/I5EGEAIO_3.h5',\n",
       " '/Users/torjushaukom/Documents/Studier/Masteroppgave/Strain_estimation/data/interim/old/ed_2_ed_clips/p4/I5EGEAIO_4.h5',\n",
       " '/Users/torjushaukom/Documents/Studier/Masteroppgave/Strain_estimation/data/interim/old/ed_2_ed_clips/p4/I5EGEAIO_5.h5',\n",
       " '/Users/torjushaukom/Documents/Studier/Masteroppgave/Strain_estimation/data/interim/old/ed_2_ed_clips/p4/I5EGEAIO_6.h5',\n",
       " '/Users/torjushaukom/Documents/Studier/Masteroppgave/Strain_estimation/data/interim/old/ed_2_ed_clips/p4/I5EGEPIS_1.h5',\n",
       " '/Users/torjushaukom/Documents/Studier/Masteroppgave/Strain_estimation/data/interim/old/ed_2_ed_clips/p4/I5EGEPIS_2.h5',\n",
       " '/Users/torjushaukom/Documents/Studier/Masteroppgave/Strain_estimation/data/interim/old/ed_2_ed_clips/p4/I5EGF2J0_1.h5',\n",
       " '/Users/torjushaukom/Documents/Studier/Masteroppgave/Strain_estimation/data/interim/old/ed_2_ed_clips/p4/I5EGF2J0_2.h5',\n",
       " '/Users/torjushaukom/Documents/Studier/Masteroppgave/Strain_estimation/data/interim/old/ed_2_ed_clips/p5/I5FCAIO0_1.h5',\n",
       " '/Users/torjushaukom/Documents/Studier/Masteroppgave/Strain_estimation/data/interim/old/ed_2_ed_clips/p5/I5FCAIO0_2.h5',\n",
       " '/Users/torjushaukom/Documents/Studier/Masteroppgave/Strain_estimation/data/interim/old/ed_2_ed_clips/p5/I5FCB304_1.h5',\n",
       " '/Users/torjushaukom/Documents/Studier/Masteroppgave/Strain_estimation/data/interim/old/ed_2_ed_clips/p5/I5FCB304_2.h5',\n",
       " '/Users/torjushaukom/Documents/Studier/Masteroppgave/Strain_estimation/data/interim/old/ed_2_ed_clips/p5/I5FCB304_3.h5',\n",
       " '/Users/torjushaukom/Documents/Studier/Masteroppgave/Strain_estimation/data/interim/old/ed_2_ed_clips/p5/I5FCB304_4.h5',\n",
       " '/Users/torjushaukom/Documents/Studier/Masteroppgave/Strain_estimation/data/interim/old/ed_2_ed_clips/p5/I5FCB304_5.h5',\n",
       " '/Users/torjushaukom/Documents/Studier/Masteroppgave/Strain_estimation/data/interim/old/ed_2_ed_clips/p5/I5FCBN08_1.h5',\n",
       " '/Users/torjushaukom/Documents/Studier/Masteroppgave/Strain_estimation/data/interim/old/ed_2_ed_clips/p5/I5FCBN08_2.h5',\n",
       " '/Users/torjushaukom/Documents/Studier/Masteroppgave/Strain_estimation/data/interim/old/ed_2_ed_clips/p5/I5FCBN08_3.h5',\n",
       " '/Users/torjushaukom/Documents/Studier/Masteroppgave/Strain_estimation/data/interim/old/ed_2_ed_clips/p5/I5FCC8GC_1.h5',\n",
       " '/Users/torjushaukom/Documents/Studier/Masteroppgave/Strain_estimation/data/interim/old/ed_2_ed_clips/p5/I5FCC8GC_2.h5',\n",
       " '/Users/torjushaukom/Documents/Studier/Masteroppgave/Strain_estimation/data/interim/old/ed_2_ed_clips/p5/I5FCC8GC_3.h5',\n",
       " '/Users/torjushaukom/Documents/Studier/Masteroppgave/Strain_estimation/data/interim/old/ed_2_ed_clips/p5/I5FCC8GC_4.h5',\n",
       " '/Users/torjushaukom/Documents/Studier/Masteroppgave/Strain_estimation/data/interim/old/ed_2_ed_clips/p5/I5FCC8GC_5.h5',\n",
       " '/Users/torjushaukom/Documents/Studier/Masteroppgave/Strain_estimation/data/interim/old/ed_2_ed_clips/p5/I5FCCLOG_1.h5',\n",
       " '/Users/torjushaukom/Documents/Studier/Masteroppgave/Strain_estimation/data/interim/old/ed_2_ed_clips/p5/I5FCCLOG_2.h5',\n",
       " '/Users/torjushaukom/Documents/Studier/Masteroppgave/Strain_estimation/data/interim/old/ed_2_ed_clips/p5/I5FCCLOG_3.h5',\n",
       " '/Users/torjushaukom/Documents/Studier/Masteroppgave/Strain_estimation/data/interim/old/ed_2_ed_clips/p5/I5FCCUOK_1.h5',\n",
       " '/Users/torjushaukom/Documents/Studier/Masteroppgave/Strain_estimation/data/interim/old/ed_2_ed_clips/p5/I5FCCUOK_2.h5',\n",
       " '/Users/torjushaukom/Documents/Studier/Masteroppgave/Strain_estimation/data/interim/old/ed_2_ed_clips/p5/I5FCCUOK_3.h5',\n",
       " '/Users/torjushaukom/Documents/Studier/Masteroppgave/Strain_estimation/data/interim/old/ed_2_ed_clips/p5/I5FCCUOK_4.h5',\n",
       " '/Users/torjushaukom/Documents/Studier/Masteroppgave/Strain_estimation/data/interim/old/ed_2_ed_clips/p5/I5FCCUOK_5.h5']"
      ]
     },
     "execution_count": 5,
     "metadata": {},
     "output_type": "execute_result"
    }
   ],
   "source": [
    "h5files = glob.glob(os.path.join(data_path, '*/*.h5'))\n",
    "h5files"
   ]
  },
  {
   "cell_type": "markdown",
   "metadata": {},
   "source": [
    "Pick a random file and see if we can find a suitable point"
   ]
  },
  {
   "cell_type": "code",
   "execution_count": null,
   "metadata": {},
   "outputs": [],
   "source": [
    "file_idx = np.random.randint(0, len(h5files))\n",
    "h5file = h5files[file_idx]\n",
    "h5file"
   ]
  },
  {
   "cell_type": "code",
   "execution_count": null,
   "metadata": {},
   "outputs": [],
   "source": [
    "data = h5py.File(h5file)\n",
    "list(data.keys())"
   ]
  },
  {
   "cell_type": "code",
   "execution_count": 6,
   "metadata": {},
   "outputs": [
    {
     "ename": "NameError",
     "evalue": "name 'data' is not defined",
     "output_type": "error",
     "traceback": [
      "\u001b[0;31m---------------------------------------------------------------------------\u001b[0m",
      "\u001b[0;31mNameError\u001b[0m                                 Traceback (most recent call last)",
      "\u001b[0;32m<ipython-input-6-8ac369e5235e>\u001b[0m in \u001b[0;36m<module>\u001b[0;34m\u001b[0m\n\u001b[0;32m----> 1\u001b[0;31m \u001b[0mvideo\u001b[0m \u001b[0;34m=\u001b[0m \u001b[0mdata\u001b[0m\u001b[0;34m[\u001b[0m\u001b[0;34m'tissue/data'\u001b[0m\u001b[0;34m]\u001b[0m\u001b[0;34m[\u001b[0m\u001b[0;34m:\u001b[0m\u001b[0;34m]\u001b[0m\u001b[0;34m\u001b[0m\u001b[0;34m\u001b[0m\u001b[0m\n\u001b[0m\u001b[1;32m      2\u001b[0m \u001b[0mfps\u001b[0m \u001b[0;34m=\u001b[0m \u001b[0;36m1\u001b[0m \u001b[0;34m/\u001b[0m \u001b[0;34m(\u001b[0m\u001b[0mdata\u001b[0m\u001b[0;34m[\u001b[0m\u001b[0;34m'tissue/times'\u001b[0m\u001b[0;34m]\u001b[0m\u001b[0;34m[\u001b[0m\u001b[0;36m3\u001b[0m\u001b[0;34m]\u001b[0m \u001b[0;34m-\u001b[0m \u001b[0mdata\u001b[0m\u001b[0;34m[\u001b[0m\u001b[0;34m'tissue/times'\u001b[0m\u001b[0;34m]\u001b[0m\u001b[0;34m[\u001b[0m\u001b[0;36m2\u001b[0m\u001b[0;34m]\u001b[0m\u001b[0;34m)\u001b[0m\u001b[0;34m\u001b[0m\u001b[0;34m\u001b[0m\u001b[0m\n",
      "\u001b[0;31mNameError\u001b[0m: name 'data' is not defined"
     ]
    }
   ],
   "source": [
    "video = data['tissue/data'][:]\n",
    "fps = 1 / (data['tissue/times'][3] - data['tissue/times'][2])"
   ]
  },
  {
   "cell_type": "code",
   "execution_count": 7,
   "metadata": {},
   "outputs": [],
   "source": [
    "pal_txt = open('../../pal.txt')\n",
    "line = pal_txt.readline()[:-1]\n",
    "pal = np.array([int(val) for val in line.split(',')])"
   ]
  },
  {
   "cell_type": "code",
   "execution_count": null,
   "metadata": {},
   "outputs": [],
   "source": [
    "video = np.array([[[pal[int(video[i, j, k])] for k in range(video.shape[2])] for j in range(video.shape[1])] for i in range(video.shape[0])])"
   ]
  },
  {
   "cell_type": "markdown",
   "metadata": {},
   "source": [
    "Check that we can view the mitral points and that they make sense"
   ]
  },
  {
   "cell_type": "code",
   "execution_count": null,
   "metadata": {},
   "outputs": [],
   "source": [
    "misc.notebookHelpers.ultraSoundAnimation(video, fps=fps / 8)"
   ]
  },
  {
   "cell_type": "code",
   "execution_count": null,
   "metadata": {},
   "outputs": [],
   "source": [
    "import skimage"
   ]
  },
  {
   "cell_type": "code",
   "execution_count": null,
   "metadata": {},
   "outputs": [],
   "source": [
    "median_video = np.zeros_like(video)\n",
    "kernel = np.ones((7, 7))\n",
    "for i in range(video.shape[0]):\n",
    "    median_video[i, :, :] = skimage.filters.median(video[i, :, :], kernel)"
   ]
  },
  {
   "cell_type": "code",
   "execution_count": null,
   "metadata": {},
   "outputs": [],
   "source": [
    "misc.ultraSoundAnimation(median_video, fps=fps)"
   ]
  },
  {
   "cell_type": "code",
   "execution_count": null,
   "metadata": {},
   "outputs": [],
   "source": [
    "thresholded_video = median_video.copy()\n",
    "thresholded_video[thresholded_video < 50] = 0"
   ]
  },
  {
   "cell_type": "code",
   "execution_count": null,
   "metadata": {},
   "outputs": [],
   "source": [
    "misc.ultraSoundAnimation(thresholded_video, fps=fps)"
   ]
  },
  {
   "cell_type": "code",
   "execution_count": null,
   "metadata": {},
   "outputs": [],
   "source": [
    "gaussian_video = thresholded_video.copy().astype(np.float32) / 255."
   ]
  },
  {
   "cell_type": "code",
   "execution_count": null,
   "metadata": {},
   "outputs": [],
   "source": [
    "for i in range(video.shape[0]):\n",
    "    gaussian_video[i, :, :] = skimage.filters.gaussian(gaussian_video[i, :, :], sigma=3)"
   ]
  },
  {
   "cell_type": "code",
   "execution_count": null,
   "metadata": {},
   "outputs": [],
   "source": [
    "misc.ultraSoundAnimation(gaussian_video, fps=fps)"
   ]
  },
  {
   "cell_type": "code",
   "execution_count": null,
   "metadata": {},
   "outputs": [],
   "source": [
    "sobel_video = gaussian_video.copy()\n",
    "for i in range(sobel_video.shape[0]):\n",
    "    sobel_video[i, : :] = skimage.filters.sobel(gaussian_video[i, :, :], \n",
    "                                                video[i, :, :] != 0)"
   ]
  },
  {
   "cell_type": "code",
   "execution_count": null,
   "metadata": {},
   "outputs": [],
   "source": [
    "misc.ultraSoundAnimation(sobel_video, fps=fps)"
   ]
  },
  {
   "cell_type": "markdown",
   "metadata": {},
   "source": [
    "Select the first frame, and search for points below the mitral points to track"
   ]
  },
  {
   "cell_type": "code",
   "execution_count": null,
   "metadata": {},
   "outputs": [],
   "source": [
    "frame = video[0, :, :]\n",
    "mitral_points = data['tissue/track_points'][:2, :]"
   ]
  },
  {
   "cell_type": "code",
   "execution_count": null,
   "metadata": {},
   "outputs": [],
   "source": [
    "plt.imshow(frame, cmap='Greys_r')\n",
    "plt.scatter(mitral_points[0, 0], mitral_points[0, 1], color='red')\n",
    "plt.scatter(mitral_points[1, 0], mitral_points[1, 1], color='red')"
   ]
  },
  {
   "cell_type": "code",
   "execution_count": 9,
   "metadata": {},
   "outputs": [],
   "source": [
    "import skimage"
   ]
  },
  {
   "cell_type": "code",
   "execution_count": null,
   "metadata": {},
   "outputs": [],
   "source": [
    "kernel = np.ones((7, 7))\n",
    "median_frame = skimage.filters.median(frame, kernel)"
   ]
  },
  {
   "cell_type": "code",
   "execution_count": null,
   "metadata": {},
   "outputs": [],
   "source": [
    "fig, ax = plt.subplots(ncols=2, sharex=True, sharey=True, figsize=(10, 15))\n",
    "ax[0].imshow(frame, cmap='Greys_r')\n",
    "ax[1].imshow(median_frame, cmap='Greys_r')"
   ]
  },
  {
   "cell_type": "code",
   "execution_count": null,
   "metadata": {},
   "outputs": [],
   "source": [
    "plt.hist(np.ravel(median_frame))"
   ]
  },
  {
   "cell_type": "code",
   "execution_count": null,
   "metadata": {},
   "outputs": [],
   "source": [
    "thresholded = median_frame.copy()\n",
    "thresholded[thresholded < 20] = 0\n",
    "\n",
    "plt.imshow(thresholded, cmap='Greys_r')"
   ]
  },
  {
   "cell_type": "code",
   "execution_count": null,
   "metadata": {},
   "outputs": [],
   "source": [
    "import skimage.segmentation as segm"
   ]
  },
  {
   "cell_type": "code",
   "execution_count": null,
   "metadata": {},
   "outputs": [],
   "source": [
    "segm_frame = segm.slic(median_frame, 3)\n",
    "plt.imshow(segm_frame)"
   ]
  },
  {
   "cell_type": "code",
   "execution_count": null,
   "metadata": {},
   "outputs": [],
   "source": [
    "data['tissue/pixelsize'][:]"
   ]
  },
  {
   "cell_type": "code",
   "execution_count": 8,
   "metadata": {},
   "outputs": [],
   "source": [
    "def cm_to_pixel(num_cm):\n",
    "    pixel_size_cm = 0.0005 * 100\n",
    "    return int(round(num_cm / pixel_size_cm))"
   ]
  },
  {
   "cell_type": "code",
   "execution_count": null,
   "metadata": {},
   "outputs": [],
   "source": [
    "search_box_left = np.array([[mitral_points[0, 0] - cm_to_pixel(4, data, 0), mitral_points[0, 0] + cm_to_pixel(1, data, 0)],\n",
    "                            [mitral_points[0, 1] + cm_to_pixel(2, data, 1), mitral_points[0, 1] + cm_to_pixel(5, data, 1)]]).astype('int')"
   ]
  },
  {
   "cell_type": "code",
   "execution_count": null,
   "metadata": {},
   "outputs": [],
   "source": [
    "search_box_left"
   ]
  },
  {
   "cell_type": "code",
   "execution_count": null,
   "metadata": {},
   "outputs": [],
   "source": [
    "plt.imshow(frame, cmap='Greys_r')\n",
    "plt.scatter(mitral_points[0, 0], mitral_points[0, 1], color='red')\n",
    "plt.scatter(mitral_points[1, 0], mitral_points[1, 1], color='red')\n",
    "\n",
    "rectangle = plt.Rectangle((search_box_left[0, 0], search_box_left[1, 0]), \n",
    "                           search_box_left[0, 1] - search_box_left[0, 0], \n",
    "                           search_box_left[1, 1] - search_box_left[1, 0], color='r', fill=False)\n",
    "plt.gca().add_patch(rectangle)"
   ]
  },
  {
   "cell_type": "code",
   "execution_count": null,
   "metadata": {},
   "outputs": [],
   "source": [
    "left_search_region = frame[search_box_left[1, 0]:search_box_left[1, 1],\n",
    "                           search_box_left[0, 0]:search_box_left[0, 1]]"
   ]
  },
  {
   "cell_type": "code",
   "execution_count": null,
   "metadata": {},
   "outputs": [],
   "source": [
    "plt.imshow(left_search_region, cmap='Greys_r')"
   ]
  },
  {
   "cell_type": "code",
   "execution_count": null,
   "metadata": {},
   "outputs": [],
   "source": [
    "flattened_index = np.argmax(left_search_region)\n",
    "segment_point_left = np.unravel_index(flattened_index, left_search_region.shape)\n",
    "segment_point_left = np.array([segment_point_left[1] + search_box_left[0, 0], segment_point_left[0] + search_box_left[1, 0]])\n",
    "segment_point_left"
   ]
  },
  {
   "cell_type": "code",
   "execution_count": null,
   "metadata": {},
   "outputs": [],
   "source": [
    "plt.imshow(frame, cmap='Greys_r')\n",
    "plt.scatter(mitral_points[0, 0], mitral_points[0, 1], color='red')\n",
    "plt.scatter(mitral_points[1, 0], mitral_points[1, 1], color='red')\n",
    "plt.scatter(segment_point_left[0], segment_point_left[1], color='red')\n",
    "rectangle = plt.Rectangle((search_box_left[0, 0], search_box_left[1, 0]), \n",
    "                           search_box_left[0, 1] - search_box_left[0, 0], \n",
    "                           search_box_left[1, 1] - search_box_left[1, 0], color='r', fill=False)\n",
    "plt.gca().add_patch(rectangle)"
   ]
  },
  {
   "cell_type": "markdown",
   "metadata": {},
   "source": [
    "Filter the image first"
   ]
  },
  {
   "cell_type": "code",
   "execution_count": null,
   "metadata": {},
   "outputs": [],
   "source": [
    "import skimage"
   ]
  },
  {
   "cell_type": "code",
   "execution_count": null,
   "metadata": {},
   "outputs": [],
   "source": [
    "kernel = np.ones((3, 3)) / 9\n",
    "mean_filtered_frame = skimage.filters.rank.mean(frame.astype('uint8'), kernel)\n",
    "plt.imshow(mean_filtered_frame, cmap='Greys_r')"
   ]
  },
  {
   "cell_type": "code",
   "execution_count": null,
   "metadata": {},
   "outputs": [],
   "source": [
    "left_search_region = mean_filtered_frame[search_box_left[1, 0]:search_box_left[1, 1],\n",
    "                           search_box_left[0, 0]:search_box_left[0, 1]]\n"
   ]
  },
  {
   "cell_type": "code",
   "execution_count": null,
   "metadata": {},
   "outputs": [],
   "source": [
    "flattened_index = np.argmax(left_search_region)\n",
    "segment_point_left = np.unravel_index(flattened_index, left_search_region.shape)\n",
    "segment_point_left = np.array([segment_point_left[1] + search_box_left[0, 0], segment_point_left[0] + search_box_left[1, 0]])\n",
    "segment_point_left"
   ]
  },
  {
   "cell_type": "code",
   "execution_count": null,
   "metadata": {},
   "outputs": [],
   "source": [
    "plt.imshow(frame, cmap='Greys_r')\n",
    "plt.scatter(mitral_points[0, 0], mitral_points[0, 1], color='red')\n",
    "plt.scatter(mitral_points[1, 0], mitral_points[1, 1], color='red')\n",
    "plt.scatter(segment_point_left[0], segment_point_left[1], color='red')"
   ]
  },
  {
   "cell_type": "code",
   "execution_count": null,
   "metadata": {},
   "outputs": [],
   "source": [
    "search_box_right = np.array([[mitral_points[1, 0] - cm_to_pixel(1, data, 0), mitral_points[1, 0] + cm_to_pixel(4, data, 0)],\n",
    "                             [mitral_points[1, 1] + cm_to_pixel(2, data, 1), mitral_points[1, 1] + cm_to_pixel(5, data, 1)]]).astype('int')"
   ]
  },
  {
   "cell_type": "code",
   "execution_count": null,
   "metadata": {},
   "outputs": [],
   "source": [
    "right_search_region = mean_filtered_frame[search_box_right[1, 0]:search_box_right[1, 1],\n",
    "                           search_box_right[0, 0]:search_box_right[0, 1]]"
   ]
  },
  {
   "cell_type": "code",
   "execution_count": null,
   "metadata": {},
   "outputs": [],
   "source": [
    "plt.imshow(frame, cmap='Greys_r')\n",
    "plt.scatter(mitral_points[0, 0], mitral_points[0, 1], color='red')\n",
    "plt.scatter(mitral_points[1, 0], mitral_points[1, 1], color='red')\n",
    "\n",
    "rectangle = plt.Rectangle((search_box_left[0, 0], search_box_left[1, 0]), \n",
    "                           search_box_left[0, 1] - search_box_left[0, 0], \n",
    "                           search_box_left[1, 1] - search_box_left[1, 0], color='r', fill=False)\n",
    "plt.gca().add_patch(rectangle)\n",
    "\n",
    "rectangle = plt.Rectangle((search_box_right[0, 0], search_box_right[1, 0]), \n",
    "                           search_box_right[0, 1] - search_box_right[0, 0], \n",
    "                           search_box_right[1, 1] - search_box_right[1, 0], color='r', fill=False)\n",
    "plt.gca().add_patch(rectangle)"
   ]
  },
  {
   "cell_type": "code",
   "execution_count": null,
   "metadata": {},
   "outputs": [],
   "source": [
    "mask = frame != 0"
   ]
  },
  {
   "cell_type": "code",
   "execution_count": null,
   "metadata": {},
   "outputs": [],
   "source": [
    "sobel_frame = skimage.filters.sobel(frame.astype('uint8'), mask=mask)\n",
    "plt.imshow(sobel_frame, cmap='Greys_r')"
   ]
  },
  {
   "cell_type": "code",
   "execution_count": null,
   "metadata": {},
   "outputs": [],
   "source": [
    "kernel = np.ones((3, 3)) / 9\n",
    "mean_sobel = skimage.filters.median(sobel_frame)#, kernel)\n",
    "plt.imshow(mean_sobel, cmap='Greys_r')\n",
    "plt.scatter(mitral_points[0, 0], mitral_points[0, 1], color='red')\n",
    "plt.scatter(mitral_points[1, 0], mitral_points[1, 1], color='red')\n",
    "\n",
    "rectangle = plt.Rectangle((search_box_left[0, 0], search_box_left[1, 0]), \n",
    "                           search_box_left[0, 1] - search_box_left[0, 0], \n",
    "                           search_box_left[1, 1] - search_box_left[1, 0], color='r', fill=False)\n",
    "plt.gca().add_patch(rectangle)\n",
    "\n",
    "rectangle = plt.Rectangle((search_box_right[0, 0], search_box_right[1, 0]), \n",
    "                           search_box_right[0, 1] - search_box_right[0, 0], \n",
    "                           search_box_right[1, 1] - search_box_right[1, 0], color='r', fill=False)\n",
    "plt.gca().add_patch(rectangle)"
   ]
  },
  {
   "cell_type": "code",
   "execution_count": null,
   "metadata": {},
   "outputs": [],
   "source": [
    "plt.hist(np.ravel(mean_sobel))"
   ]
  },
  {
   "cell_type": "code",
   "execution_count": null,
   "metadata": {},
   "outputs": [],
   "source": [
    "left_search_region = mean_sobel[search_box_left[1, 0]:search_box_left[1, 1],\n",
    "                           search_box_left[0, 0]:search_box_left[0, 1]]"
   ]
  },
  {
   "cell_type": "code",
   "execution_count": null,
   "metadata": {},
   "outputs": [],
   "source": [
    "right_search_region = mean_sobel[search_box_right[1, 0]:search_box_right[1, 1],\n",
    "                           search_box_right[0, 0]:search_box_right[0, 1]]"
   ]
  },
  {
   "cell_type": "code",
   "execution_count": null,
   "metadata": {},
   "outputs": [],
   "source": [
    "flattened_index = np.argmax(left_search_region)\n",
    "segment_point_left = np.unravel_index(flattened_index, left_search_region.shape)\n",
    "segment_point_left = np.array([segment_point_left[1] + search_box_left[0, 0], segment_point_left[0] + search_box_left[1, 0]])\n",
    "segment_point_left"
   ]
  },
  {
   "cell_type": "code",
   "execution_count": null,
   "metadata": {},
   "outputs": [],
   "source": [
    "flattened_index = np.argmax(right_search_region)\n",
    "segment_point_right = np.unravel_index(flattened_index, right_search_region.shape)\n",
    "segment_point_right = np.array([segment_point_right[1] + search_box_right[0, 0], segment_point_right[0] + search_box_right[1, 0]])\n",
    "segment_point_right"
   ]
  },
  {
   "cell_type": "code",
   "execution_count": null,
   "metadata": {},
   "outputs": [],
   "source": [
    "plt.imshow(frame, cmap='Greys_r')\n",
    "plt.scatter(mitral_points[0, 0], mitral_points[0, 1], color='red')\n",
    "plt.scatter(mitral_points[1, 0], mitral_points[1, 1], color='red')\n",
    "plt.scatter(segment_point_left[0], segment_point_left[1], color='red')\n",
    "rectangle = plt.Rectangle((search_box_left[0, 0], search_box_left[1, 0]), \n",
    "                           search_box_left[0, 1] - search_box_left[0, 0], \n",
    "                           search_box_left[1, 1] - search_box_left[1, 0], color='r', fill=False)\n",
    "plt.gca().add_patch(rectangle)\n",
    "\n",
    "plt.scatter(segment_point_right[0], segment_point_right[1], color='red')\n",
    "rectangle = plt.Rectangle((search_box_right[0, 0], search_box_right[1, 0]), \n",
    "                           search_box_right[0, 1] - search_box_right[0, 0], \n",
    "                           search_box_right[1, 1] - search_box_right[1, 0], color='r', fill=False)\n",
    "plt.gca().add_patch(rectangle)"
   ]
  },
  {
   "cell_type": "code",
   "execution_count": null,
   "metadata": {},
   "outputs": [],
   "source": [
    "mean_sobel[segment_point_left[1], segment_point_left[0]]"
   ]
  },
  {
   "cell_type": "code",
   "execution_count": null,
   "metadata": {},
   "outputs": [],
   "source": [
    "mean_sobel[segment_point_right[1], segment_point_right[0]]"
   ]
  },
  {
   "cell_type": "code",
   "execution_count": 10,
   "metadata": {},
   "outputs": [],
   "source": [
    "def triangleSector(top, height, left_theta, right_theta):\n",
    "    left = [top[0] - height * np.tan(left_theta), top[1] + height]\n",
    "    right = [top[0] + height * np.tan(right_theta), top[1] + height]\n",
    "    left_barrier = []\n",
    "    right_barrier = []\n",
    "    for y in range(top[1], top[1] + height):\n",
    "        x_left = int(np.round(((y - top[1]) / (left[1] - top[1])) * (left[0] - top[0]) + top[0]))\n",
    "        left_barrier.append([x_left, y])\n",
    "        \n",
    "        x_right = int(np.round(((y - top[1]) / (right[1] - top[1])) * (right[0] - top[0]) + top[0]))\n",
    "        right_barrier.append([x_right, y])\n",
    "    left_barrier = np.array(left_barrier)\n",
    "    right_barrier = np.array(right_barrier)\n",
    "    return left_barrier, right_barrier"
   ]
  },
  {
   "cell_type": "code",
   "execution_count": 11,
   "metadata": {},
   "outputs": [
    {
     "ename": "NameError",
     "evalue": "name 'mitral_points' is not defined",
     "output_type": "error",
     "traceback": [
      "\u001b[0;31m---------------------------------------------------------------------------\u001b[0m",
      "\u001b[0;31mNameError\u001b[0m                                 Traceback (most recent call last)",
      "\u001b[0;32m<ipython-input-11-0b95c2d0371c>\u001b[0m in \u001b[0;36m<module>\u001b[0;34m\u001b[0m\n\u001b[0;32m----> 1\u001b[0;31m \u001b[0mleft_barrier\u001b[0m\u001b[0;34m,\u001b[0m \u001b[0mright_barrier\u001b[0m \u001b[0;34m=\u001b[0m \u001b[0mtriangleSector\u001b[0m\u001b[0;34m(\u001b[0m\u001b[0mmitral_points\u001b[0m\u001b[0;34m[\u001b[0m\u001b[0;36m0\u001b[0m\u001b[0;34m,\u001b[0m \u001b[0;34m:\u001b[0m\u001b[0;34m]\u001b[0m\u001b[0;34m,\u001b[0m \u001b[0mcm_to_pixel\u001b[0m\u001b[0;34m(\u001b[0m\u001b[0;36m4.5\u001b[0m\u001b[0;34m,\u001b[0m \u001b[0mdata\u001b[0m\u001b[0;34m,\u001b[0m \u001b[0;36m1\u001b[0m\u001b[0;34m)\u001b[0m\u001b[0;34m,\u001b[0m \u001b[0mnp\u001b[0m\u001b[0;34m.\u001b[0m\u001b[0mpi\u001b[0m \u001b[0;34m/\u001b[0m \u001b[0;36m10\u001b[0m\u001b[0;34m,\u001b[0m \u001b[0mnp\u001b[0m\u001b[0;34m.\u001b[0m\u001b[0mpi\u001b[0m \u001b[0;34m/\u001b[0m \u001b[0;36m6\u001b[0m\u001b[0;34m)\u001b[0m\u001b[0;34m\u001b[0m\u001b[0;34m\u001b[0m\u001b[0m\n\u001b[0m",
      "\u001b[0;31mNameError\u001b[0m: name 'mitral_points' is not defined"
     ]
    }
   ],
   "source": [
    "left_barrier, right_barrier = triangleSector(mitral_points[0, :], cm_to_pixel(4.5, data, 1), np.pi / 10, np.pi / 6)"
   ]
  },
  {
   "cell_type": "code",
   "execution_count": null,
   "metadata": {},
   "outputs": [],
   "source": [
    "left_barrier = np.array(left_barrier)\n",
    "plt.imshow(frame, cmap='Greys_r')\n",
    "plt.scatter(mitral_points[0, 0], mitral_points[0, 1], color='red')\n",
    "plt.plot(left_barrier[:, 0], left_barrier[:, 1])\n",
    "plt.plot(right_barrier[:, 0], right_barrier[:, 1])"
   ]
  },
  {
   "cell_type": "code",
   "execution_count": 12,
   "metadata": {},
   "outputs": [],
   "source": [
    "def searchTriangle(frame, top, height, left_theta, right_theta):\n",
    "    left_barrier, right_barrier = triangleSector(top, height, left_theta, right_theta)\n",
    "    max_val = 0\n",
    "    max_idx = [0, 0]\n",
    "    for i, y in enumerate(range(left_barrier[0, 1], left_barrier[-1, 1])):\n",
    "        for j, x in enumerate(range(left_barrier[i, 0], right_barrier[i, 0] + 1)):\n",
    "            if y >= left_barrier[0, 1] + cm_to_pixel(2) and x < frame.shape[1] and x >= 0:\n",
    "                if frame[y, x] > max_val:\n",
    "                    max_val = frame[y, x]\n",
    "                    max_idx = [x, y]\n",
    "    return max_idx, left_barrier, right_barrier"
   ]
  },
  {
   "cell_type": "code",
   "execution_count": null,
   "metadata": {},
   "outputs": [],
   "source": [
    "left_point = searchTriangle(mean_sobel, mitral_points[0, :], cm_to_pixel(3.5, data, 1), np.pi / 8, np.pi / 8)\n",
    "right_point = searchTriangle(mean_sobel, mitral_points[1, :], cm_to_pixel(3.5, data, 1), np.pi / 8, np.pi / 8)\n",
    "plt.imshow(frame, cmap='Greys_r')\n",
    "plt.scatter(mitral_points[0, 0], mitral_points[0, 1], color='red')\n",
    "plt.scatter(mitral_points[1, 0], mitral_points[1, 1], color='red')\n",
    "plt.scatter(left_point[0], left_point[1])\n",
    "plt.scatter(right_point[0], right_point[1])"
   ]
  },
  {
   "cell_type": "code",
   "execution_count": null,
   "metadata": {},
   "outputs": [],
   "source": [
    "data.close()"
   ]
  },
  {
   "cell_type": "code",
   "execution_count": 20,
   "metadata": {},
   "outputs": [],
   "source": [
    "plt.rc('text', usetex=True)\n",
    "plt.rc('font', family='serif')"
   ]
  },
  {
   "cell_type": "code",
   "execution_count": 14,
   "metadata": {},
   "outputs": [
    {
     "data": {
      "application/vnd.jupyter.widget-view+json": {
       "model_id": "b4ae5900a1234391b5be5e2e0c9c34cd",
       "version_major": 2,
       "version_minor": 0
      },
      "text/plain": [
       "HBox(children=(IntProgress(value=0, max=224), HTML(value='')))"
      ]
     },
     "metadata": {},
     "output_type": "display_data"
    },
    {
     "name": "stderr",
     "output_type": "stream",
     "text": [
      "/anaconda3/envs/strain/lib/python3.6/site-packages/ipykernel_launcher.py:15: RuntimeWarning: invalid value encountered in long_scalars\n",
      "  from ipykernel import kernelapp as app\n"
     ]
    },
    {
     "ename": "RuntimeError",
     "evalue": "Unable to create link (name already exists)",
     "output_type": "error",
     "traceback": [
      "\u001b[0;31m---------------------------------------------------------------------------\u001b[0m",
      "\u001b[0;31mRuntimeError\u001b[0m                              Traceback (most recent call last)",
      "\u001b[0;32m<ipython-input-14-294b24c15a72>\u001b[0m in \u001b[0;36m<module>\u001b[0;34m\u001b[0m\n\u001b[1;32m     49\u001b[0m \u001b[0;34m\u001b[0m\u001b[0m\n\u001b[1;32m     50\u001b[0m     \u001b[0mtrack_points\u001b[0m \u001b[0;34m=\u001b[0m \u001b[0mnp\u001b[0m\u001b[0;34m.\u001b[0m\u001b[0mvstack\u001b[0m\u001b[0;34m(\u001b[0m\u001b[0;34m(\u001b[0m\u001b[0mmitral_points\u001b[0m\u001b[0;34m,\u001b[0m \u001b[0mleft_point\u001b[0m\u001b[0;34m,\u001b[0m \u001b[0mright_point\u001b[0m\u001b[0;34m)\u001b[0m\u001b[0;34m)\u001b[0m\u001b[0;34m\u001b[0m\u001b[0;34m\u001b[0m\u001b[0m\n\u001b[0;32m---> 51\u001b[0;31m     \u001b[0mdata\u001b[0m\u001b[0;34m.\u001b[0m\u001b[0mcreate_dataset\u001b[0m\u001b[0;34m(\u001b[0m\u001b[0;34m'tissue/det_track_points'\u001b[0m\u001b[0;34m,\u001b[0m \u001b[0mdata\u001b[0m\u001b[0;34m=\u001b[0m\u001b[0mtrack_points\u001b[0m\u001b[0;34m)\u001b[0m\u001b[0;34m\u001b[0m\u001b[0;34m\u001b[0m\u001b[0m\n\u001b[0m\u001b[1;32m     52\u001b[0m     \u001b[0;31m# fig, ax = plt.subplots(ncols=4, sharex=True, sharey=True, figsize=(20, 5))\u001b[0m\u001b[0;34m\u001b[0m\u001b[0;34m\u001b[0m\u001b[0;34m\u001b[0m\u001b[0m\n\u001b[1;32m     53\u001b[0m     \u001b[0;31m# ax[0].imshow(frame, cmap='Greys_r')\u001b[0m\u001b[0;34m\u001b[0m\u001b[0;34m\u001b[0m\u001b[0;34m\u001b[0m\u001b[0m\n",
      "\u001b[0;32m/anaconda3/envs/strain/lib/python3.6/site-packages/h5py/_hl/group.py\u001b[0m in \u001b[0;36mcreate_dataset\u001b[0;34m(self, name, shape, dtype, data, **kwds)\u001b[0m\n\u001b[1;32m    117\u001b[0m             \u001b[0mdset\u001b[0m \u001b[0;34m=\u001b[0m \u001b[0mdataset\u001b[0m\u001b[0;34m.\u001b[0m\u001b[0mDataset\u001b[0m\u001b[0;34m(\u001b[0m\u001b[0mdsid\u001b[0m\u001b[0;34m)\u001b[0m\u001b[0;34m\u001b[0m\u001b[0;34m\u001b[0m\u001b[0m\n\u001b[1;32m    118\u001b[0m             \u001b[0;32mif\u001b[0m \u001b[0mname\u001b[0m \u001b[0;32mis\u001b[0m \u001b[0;32mnot\u001b[0m \u001b[0;32mNone\u001b[0m\u001b[0;34m:\u001b[0m\u001b[0;34m\u001b[0m\u001b[0;34m\u001b[0m\u001b[0m\n\u001b[0;32m--> 119\u001b[0;31m                 \u001b[0mself\u001b[0m\u001b[0;34m[\u001b[0m\u001b[0mname\u001b[0m\u001b[0;34m]\u001b[0m \u001b[0;34m=\u001b[0m \u001b[0mdset\u001b[0m\u001b[0;34m\u001b[0m\u001b[0;34m\u001b[0m\u001b[0m\n\u001b[0m\u001b[1;32m    120\u001b[0m             \u001b[0;32mreturn\u001b[0m \u001b[0mdset\u001b[0m\u001b[0;34m\u001b[0m\u001b[0;34m\u001b[0m\u001b[0m\n\u001b[1;32m    121\u001b[0m \u001b[0;34m\u001b[0m\u001b[0m\n",
      "\u001b[0;32m/anaconda3/envs/strain/lib/python3.6/site-packages/h5py/_hl/group.py\u001b[0m in \u001b[0;36m__setitem__\u001b[0;34m(self, name, obj)\u001b[0m\n\u001b[1;32m    285\u001b[0m \u001b[0;34m\u001b[0m\u001b[0m\n\u001b[1;32m    286\u001b[0m             \u001b[0;32mif\u001b[0m \u001b[0misinstance\u001b[0m\u001b[0;34m(\u001b[0m\u001b[0mobj\u001b[0m\u001b[0;34m,\u001b[0m \u001b[0mHLObject\u001b[0m\u001b[0;34m)\u001b[0m\u001b[0;34m:\u001b[0m\u001b[0;34m\u001b[0m\u001b[0;34m\u001b[0m\u001b[0m\n\u001b[0;32m--> 287\u001b[0;31m                 \u001b[0mh5o\u001b[0m\u001b[0;34m.\u001b[0m\u001b[0mlink\u001b[0m\u001b[0;34m(\u001b[0m\u001b[0mobj\u001b[0m\u001b[0;34m.\u001b[0m\u001b[0mid\u001b[0m\u001b[0;34m,\u001b[0m \u001b[0mself\u001b[0m\u001b[0;34m.\u001b[0m\u001b[0mid\u001b[0m\u001b[0;34m,\u001b[0m \u001b[0mname\u001b[0m\u001b[0;34m,\u001b[0m \u001b[0mlcpl\u001b[0m\u001b[0;34m=\u001b[0m\u001b[0mlcpl\u001b[0m\u001b[0;34m,\u001b[0m \u001b[0mlapl\u001b[0m\u001b[0;34m=\u001b[0m\u001b[0mself\u001b[0m\u001b[0;34m.\u001b[0m\u001b[0m_lapl\u001b[0m\u001b[0;34m)\u001b[0m\u001b[0;34m\u001b[0m\u001b[0;34m\u001b[0m\u001b[0m\n\u001b[0m\u001b[1;32m    288\u001b[0m \u001b[0;34m\u001b[0m\u001b[0m\n\u001b[1;32m    289\u001b[0m             \u001b[0;32melif\u001b[0m \u001b[0misinstance\u001b[0m\u001b[0;34m(\u001b[0m\u001b[0mobj\u001b[0m\u001b[0;34m,\u001b[0m \u001b[0mSoftLink\u001b[0m\u001b[0;34m)\u001b[0m\u001b[0;34m:\u001b[0m\u001b[0;34m\u001b[0m\u001b[0;34m\u001b[0m\u001b[0m\n",
      "\u001b[0;32mh5py/_objects.pyx\u001b[0m in \u001b[0;36mh5py._objects.with_phil.wrapper\u001b[0;34m()\u001b[0m\n",
      "\u001b[0;32mh5py/_objects.pyx\u001b[0m in \u001b[0;36mh5py._objects.with_phil.wrapper\u001b[0;34m()\u001b[0m\n",
      "\u001b[0;32mh5py/h5o.pyx\u001b[0m in \u001b[0;36mh5py.h5o.link\u001b[0;34m()\u001b[0m\n",
      "\u001b[0;31mRuntimeError\u001b[0m: Unable to create link (name already exists)"
     ]
    }
   ],
   "source": [
    "for fidx, h5file in enumerate(tqdm.tqdm_notebook(h5files)):\n",
    "    file_name = h5file.split('/')[-1][:-3]\n",
    "    data = h5py.File(h5file, 'r+')\n",
    "    video = data['tissue/data'][:]\n",
    "    fps = 1 / (data['tissue/times'][3] - data['tissue/times'][2])\n",
    "    \n",
    "    frame = video[0, :, :]\n",
    "    frame = np.array([[pal[int(frame[j, k])] for k in range(video.shape[2])] for j in range(video.shape[1])])\n",
    "    frame = frame / 255.\n",
    "    mitral_points = data['tissue/track_points'][:2, :]\n",
    "\n",
    "    x_dist = mitral_points[1, 0] - mitral_points[0, 0]\n",
    "    y_dist = mitral_points[1, 1] - mitral_points[0, 1]\n",
    "    \n",
    "    mp_angle = np.arctan(y_dist / x_dist)\n",
    "    # kernel = np.ones((7, 7)) / 49\n",
    "    # mean_frame = skimage.filters.rank.mean(frame, kernel)\n",
    "    # mask = frame != 0\n",
    "    # sobel_frame = skimage.filters.sobel(frame, mask=mask)\n",
    "    # mean_sobel = skimage.filters.rank.mean(sobel_frame, kernel)\n",
    "    \n",
    "    kernel = np.ones((7, 7))\n",
    "    median_frame = skimage.filters.median(frame, kernel)\n",
    "    thresholded = median_frame\n",
    "    thresholded[thresholded < 20] = 0\n",
    "    gaussian = skimage.filters.gaussian(thresholded, sigma=3)\n",
    "    sobel_frame = skimage.filters.sobel(gaussian, frame != 0)\n",
    "    \n",
    "    if frame[mitral_points[0, 1], mitral_points[0, 0]] != 0.:\n",
    "        left_point, left_lb, left_rb = searchTriangle(gaussian, \n",
    "                                                      mitral_points[0, :], \n",
    "                                                      cm_to_pixel(3.5), \n",
    "                                                      np.pi / 7 + mp_angle, \n",
    "                                                      0.1 - mp_angle)\n",
    "    else:\n",
    "        left_point = [0, 0]\n",
    "        left_lb = np.zeros((15, 2))\n",
    "        left_rb = np.zeros((15, 2))\n",
    "    if frame[mitral_points[1, 1], mitral_points[1, 0]] != 0.:\n",
    "        right_point, right_lb, right_rb = searchTriangle(gaussian, \n",
    "                                                         mitral_points[1, :], \n",
    "                                                         cm_to_pixel(3.5), \n",
    "                                                         0.1 + mp_angle, \n",
    "                                                         np.pi / 7 - mp_angle)\n",
    "    else:\n",
    "        right_point = [280, 0]\n",
    "        right_lb = np.zeros((15, 2))\n",
    "        right_rb = np.zeros((15, 2))\n",
    "        \n",
    "    track_points = np.vstack((mitral_points, left_point, right_point))\n",
    "    data.create_dataset('tissue/det_track_points', data=track_points)\n",
    "    # fig, ax = plt.subplots(ncols=4, sharex=True, sharey=True, figsize=(20, 5))\n",
    "    # ax[0].imshow(frame, cmap='Greys_r')\n",
    "    # ax[0].scatter(mitral_points[0, 0], mitral_points[0, 1], color='red')\n",
    "    # ax[0].scatter(mitral_points[1, 0], mitral_points[1, 1], color='red')\n",
    "    # ax[0].set_title('Original frame', fontsize=24)\n",
    "    # ax[1].imshow(thresholded, cmap='Greys_r')\n",
    "    # ax[1].set_title('Median filter and thresholding', fontsize=24)\n",
    "    # ax[2].imshow(gaussian, cmap='Greys_r')\n",
    "    # ax[2].set_title('Gaussian filter', fontsize=24)\n",
    "    # ax[3].imshow(sobel_frame, cmap='Greys_r')\n",
    "    # ax[3].plot(left_lb[:, 0], left_lb[:, 1], color='red')\n",
    "    # ax[3].plot(left_rb[:, 0], left_rb[:, 1], color='red')\n",
    "    # ax[3].plot(right_lb[:, 0], right_lb[:, 1], color='red')\n",
    "    # ax[3].plot(right_rb[:, 0], right_rb[:, 1], color='red')\n",
    "    # # ax[3].scatter(left_point[0], left_point[1], color='red')\n",
    "    # # ax[3].scatter(right_point[0], right_point[1], color='red')\n",
    "    # ax[3].set_title('Sobel filter and search sector', fontsize=24)\n",
    "    # \n",
    "    # for axis in ax:\n",
    "    #     axis.axis('off')\n",
    "    # plt.tight_layout()\n",
    "    # plt.savefig('../track_point_det.eps', dpi=150)\n",
    "    # plt.close()\n",
    "    # break\n",
    "    fig, ax = plt.subplots(ncols=2, sharex=True, sharey=True, figsize=(10, 15))\n",
    "    ax[0].imshow(frame, cmap='Greys_r')\n",
    "    ax[0].scatter(mitral_points[0, 0], mitral_points[0, 1], color='red')\n",
    "    ax[0].scatter(mitral_points[1, 0], mitral_points[1, 1], color='red')\n",
    "    ax[0].scatter(left_point[0], left_point[1])\n",
    "    ax[0].scatter(right_point[0], right_point[1])\n",
    "    ax[0].plot(left_lb[:, 0], left_lb[:, 1], color='red')\n",
    "    ax[0].plot(left_rb[:, 0], left_rb[:, 1], color='red')\n",
    "    ax[0].plot(right_lb[:, 0], right_lb[:, 1], color='red')\n",
    "    ax[0].plot(right_rb[:, 0], right_rb[:, 1], color='red')\n",
    "    \n",
    "    \n",
    "    ax[1].imshow(sobel_frame, cmap='Greys_r')\n",
    "    ax[1].scatter(mitral_points[0, 0], mitral_points[0, 1], color='red')\n",
    "    ax[1].scatter(mitral_points[1, 0], mitral_points[1, 1], color='red')\n",
    "    ax[1].scatter(left_point[0], left_point[1], color='red')\n",
    "    ax[1].scatter(right_point[0], right_point[1], color='red')\n",
    "    ax[1].plot(left_lb[:, 0], left_lb[:, 1], color='red')\n",
    "    ax[1].plot(left_rb[:, 0], left_rb[:, 1], color='red')\n",
    "    ax[1].plot(right_lb[:, 0], right_lb[:, 1], color='red')\n",
    "    ax[1].plot(right_rb[:, 0], right_rb[:, 1], color='red')\n",
    "    \n",
    "    plt.savefig('../output/figures/old/track_points/' + file_name + '.png')\n",
    "    plt.close()\n",
    "    data.close()"
   ]
  },
  {
   "cell_type": "code",
   "execution_count": 12,
   "metadata": {},
   "outputs": [],
   "source": [
    "data.close()"
   ]
  },
  {
   "cell_type": "code",
   "execution_count": null,
   "metadata": {},
   "outputs": [],
   "source": [
    "mitral_points"
   ]
  },
  {
   "cell_type": "code",
   "execution_count": null,
   "metadata": {},
   "outputs": [],
   "source": [
    "right_point"
   ]
  },
  {
   "cell_type": "code",
   "execution_count": null,
   "metadata": {},
   "outputs": [],
   "source": [
    "left_point"
   ]
  },
  {
   "cell_type": "code",
   "execution_count": null,
   "metadata": {},
   "outputs": [],
   "source": [
    "np.vstack((mitral_points, left_point, right_point))"
   ]
  },
  {
   "cell_type": "markdown",
   "metadata": {},
   "source": [
    "J49BK428_2"
   ]
  }
 ],
 "metadata": {
  "kernelspec": {
   "display_name": "Python 3",
   "language": "python",
   "name": "python3"
  },
  "language_info": {
   "codemirror_mode": {
    "name": "ipython",
    "version": 3
   },
   "file_extension": ".py",
   "mimetype": "text/x-python",
   "name": "python",
   "nbconvert_exporter": "python",
   "pygments_lexer": "ipython3",
   "version": "3.6.8"
  }
 },
 "nbformat": 4,
 "nbformat_minor": 2
}
